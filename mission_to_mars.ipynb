{
 "cells": [
  {
   "cell_type": "code",
   "execution_count": null,
   "metadata": {},
   "outputs": [],
   "source": [
    "from bs4 import BeautifulSoup as bs\n",
    "import requests\n",
    "from splinter import Browser\n",
    "import html.parser\n",
    "import pandas as pd"
   ]
  },
  {
   "cell_type": "code",
   "execution_count": null,
   "metadata": {},
   "outputs": [],
   "source": [
    "# URL of page to be scraped\n",
    "nasamarsnewsurl = 'https://mars.nasa.gov/news/'\n",
    "\n",
    "# Retrieve page with the requests module\n",
    "response = requests.get(nasamarsnewsurl)\n",
    "\n",
    "# Create BeautifulSoup object; parse with 'html.parser'\n",
    "nasamarsnewssoup = bs(response.text, 'html.parser')\n",
    "#print(nasamarsnewssoup.prettify())"
   ]
  },
  {
   "cell_type": "code",
   "execution_count": null,
   "metadata": {},
   "outputs": [],
   "source": [
    "news_title = nasamarsnewssoup.find_all('div', class_=\"content_title\")[0].a.text.strip('\\n')\n",
    "news_title"
   ]
  },
  {
   "cell_type": "code",
   "execution_count": null,
   "metadata": {},
   "outputs": [],
   "source": [
    "news_p = nasamarsnewssoup.find_all('div', class_=\"rollover_description_inner\")[0].text.strip('\\n')\n",
    "news_p"
   ]
  },
  {
   "cell_type": "code",
   "execution_count": null,
   "metadata": {},
   "outputs": [],
   "source": [
    "executable_path = {'executable_path': 'chromedriver.exe'}\n",
    "browser = Browser('chrome', **executable_path, headless=False)\n",
    "#browser = Browser('chrome', headless=False)\n",
    "\n",
    "JPLmarsspaceimageurl = 'https://www.jpl.nasa.gov/spaceimages/?search=&category=Mars'\n",
    "browser.visit(JPLmarsspaceimageurl)\n",
    "\n",
    "html = browser.html\n",
    "JPLmarsspaceimagesoup = bs(html, 'html.parser')"
   ]
  },
  {
   "cell_type": "code",
   "execution_count": null,
   "metadata": {},
   "outputs": [],
   "source": [
    "url = JPLmarsspaceimagesoup.find_all('a', class_='fancybox')[1].get(\"data-fancybox-href\")\n",
    "featured_image_url = 'https://www.jpl.nasa.gov'+ url\n",
    "featured_image_url"
   ]
  },
  {
   "cell_type": "code",
   "execution_count": null,
   "metadata": {},
   "outputs": [],
   "source": [
    "# URL of page to be scraped\n",
    "marsweathertwitterurl = 'https://twitter.com/marswxreport?lang=en'\n",
    "\n",
    "# Retrieve page with the requests module\n",
    "response = requests.get(marsweathertwitterurl)\n",
    "\n",
    "# Create BeautifulSoup object; parse with 'html.parser'\n",
    "marsweathertwittersoup = bs(response.text, 'html.parser')\n",
    "#print(nasamarsnewssoup.prettify())"
   ]
  },
  {
   "cell_type": "code",
   "execution_count": null,
   "metadata": {},
   "outputs": [],
   "source": [
    "mars_weather = marsweathertwittersoup.find_all('div', class_=\"js-tweet-text-container\")[0].p.text\n",
    "mars_weather"
   ]
  },
  {
   "cell_type": "code",
   "execution_count": null,
   "metadata": {},
   "outputs": [],
   "source": [
    "marsfactsurl = 'https://space-facts.com/mars/'\n",
    "marsfactstables = pd.read_html(marsfactsurl)\n",
    "marsfactstables"
   ]
  },
  {
   "cell_type": "code",
   "execution_count": null,
   "metadata": {},
   "outputs": [],
   "source": [
    "marsfactsdf = marsfactstables[0]\n",
    "marsfactsdf.columns = ['Facts', 'Details']\n",
    "marsfactsdf.set_index('Facts', inplace=True)\n",
    "html_table = marsfactsdf.to_html()\n",
    "html_table.replace('\\n', '')"
   ]
  },
  {
   "cell_type": "code",
   "execution_count": null,
   "metadata": {},
   "outputs": [],
   "source": [
    "browser = Browser('chrome', headless=False)\n",
    "url = 'https://astrogeology.usgs.gov/search/results?q=hemisphere+enhanced&k1=target&v1=Mars'\n",
    "browser.visit(url)\n",
    "html = browser.html\n",
    "astrogeologysoup = bs(html, 'html.parser')\n",
    "hemisphere = astrogeologysoup.find_all('div', class_='item')"
   ]
  },
  {
   "cell_type": "code",
   "execution_count": null,
   "metadata": {},
   "outputs": [],
   "source": [
    "hemisphere_image_urls = []\n",
    "\n",
    "for hem in hemisphere:\n",
    "    url = 'https://astrogeology.usgs.gov'+ hem.find('a').get('href')\n",
    "    soup = bs(requests.get(url).text, 'html.parser')\n",
    "    dict = {}\n",
    "    dict[\"title\"] = soup.find(\"title\").text.replace(\" Enhanced | USGS Astrogeology Science Center\", \"\")\n",
    "    dict[\"img_url\"] = soup.find_all('div', class_=\"downloads\")[0].find_all('ul')[0].find_all('li')[1].find('a').get('href')\n",
    "    \n",
    "    hemisphere_image_urls.append(dict)\n",
    "\n",
    "hemisphere_image_urls"
   ]
  }
 ],
 "metadata": {
  "kernelspec": {
   "display_name": "Python 3",
   "language": "python",
   "name": "python3"
  },
  "language_info": {
   "codemirror_mode": {
    "name": "ipython",
    "version": 3
   },
   "file_extension": ".py",
   "mimetype": "text/x-python",
   "name": "python",
   "nbconvert_exporter": "python",
   "pygments_lexer": "ipython3",
   "version": "3.6.3"
  }
 },
 "nbformat": 4,
 "nbformat_minor": 2
}
